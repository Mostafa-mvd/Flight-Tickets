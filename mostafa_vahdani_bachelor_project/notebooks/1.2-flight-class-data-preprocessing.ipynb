{
 "cells": [
  {
   "cell_type": "code",
   "execution_count": 343,
   "metadata": {},
   "outputs": [],
   "source": [
    "import pandas as pd"
   ]
  },
  {
   "cell_type": "code",
   "execution_count": 344,
   "metadata": {},
   "outputs": [],
   "source": [
    "df = pd.read_csv(\"/home/magnus9102/Mostafa/Py/Github/data-science/mostafa_vahdani_bachelor_project/data/processed/flight_tickets_dataset.csv\")"
   ]
  },
  {
   "cell_type": "code",
   "execution_count": 345,
   "metadata": {},
   "outputs": [],
   "source": [
    "df2 = df.groupby(['company_name', 'flight_class_type'])[\"flight_class_type\"].count()"
   ]
  },
  {
   "cell_type": "code",
   "execution_count": 335,
   "metadata": {},
   "outputs": [
    {
     "data": {
      "text/plain": [
       "flight_class_type\n",
       "EE    2\n",
       "K     1\n",
       "Name: flight_class_type, dtype: int64"
      ]
     },
     "execution_count": 335,
     "metadata": {},
     "output_type": "execute_result"
    }
   ],
   "source": [
    "df2[\"Jazeera\"]\n",
    "df2[\"Emirates\"]\n",
    "df2[\"Tailwind\"]\n",
    "df2[\"GlobalX\"]\n"
   ]
  },
  {
   "cell_type": "code",
   "execution_count": 341,
   "metadata": {},
   "outputs": [
    {
     "data": {
      "text/plain": [
       "flight_class_type\n",
       "737Y    1\n",
       "Name: flight_class_type, dtype: int64"
      ]
     },
     "execution_count": 341,
     "metadata": {},
     "output_type": "execute_result"
    }
   ],
   "source": [
    "df2[\"Corendon\"]"
   ]
  },
  {
   "cell_type": "code",
   "execution_count": 346,
   "metadata": {},
   "outputs": [
    {
     "data": {
      "text/plain": [
       "flight_class_type\n",
       "Y    1\n",
       "Name: flight_class_type, dtype: int64"
      ]
     },
     "execution_count": 346,
     "metadata": {},
     "output_type": "execute_result"
    }
   ],
   "source": [
    "def extract_corendon_class_code(x):\n",
    "    return x[-1]\n",
    "\n",
    "\n",
    "mask = (df['company_name'] == \"Corendon\")\n",
    "corendon_df = df[mask]\n",
    "df.loc[mask, 'flight_class_type'] = corendon_df[\"flight_class_type\"].apply(\n",
    "    func=extract_corendon_class_code)\n",
    "\n",
    "df2 = df.groupby(['company_name', 'flight_class_type'])[\n",
    "    \"flight_class_type\"].count()\n",
    "df2[\"Corendon\"]\n"
   ]
  },
  {
   "cell_type": "code",
   "execution_count": 347,
   "metadata": {},
   "outputs": [
    {
     "data": {
      "text/plain": [
       "flight_class_type\n",
       "YN    2\n",
       "Name: flight_class_type, dtype: int64"
      ]
     },
     "execution_count": 347,
     "metadata": {},
     "output_type": "execute_result"
    }
   ],
   "source": [
    "def extract_saha_class_code(x):\n",
    "    if len(x) > 1 and x[-2].isalpha() and x[-2].isupper():\n",
    "        return x[-2:]\n",
    "    return x[-1]\n",
    "\n",
    "\n",
    "mask = (df['company_name'] == \"Saha\")\n",
    "saha_df = df[mask]\n",
    "df.loc[mask, 'flight_class_type'] = saha_df[\"flight_class_type\"].apply(\n",
    "    func=extract_saha_class_code)\n",
    "\n",
    "df2 = df.groupby(['company_name', 'flight_class_type'])[\n",
    "    \"flight_class_type\"].count()\n",
    "df2[\"Saha\"]\n"
   ]
  },
  {
   "cell_type": "code",
   "execution_count": 348,
   "metadata": {},
   "outputs": [
    {
     "data": {
      "text/plain": [
       "flight_class_type\n",
       "Y    8\n",
       "Name: flight_class_type, dtype: int64"
      ]
     },
     "execution_count": 348,
     "metadata": {},
     "output_type": "execute_result"
    }
   ],
   "source": [
    "def extract_nordwind_class_code(x):\n",
    "    return x[-1]\n",
    "\n",
    "\n",
    "mask = (df['company_name'] == \"Nordwind\")\n",
    "nordwind_df = df[mask]\n",
    "df.loc[mask, 'flight_class_type'] = nordwind_df[\"flight_class_type\"].apply(\n",
    "    func=extract_nordwind_class_code)\n",
    "\n",
    "df2 = df.groupby(['company_name', 'flight_class_type'])[\n",
    "    \"flight_class_type\"].count()\n",
    "df2[\"Nordwind\"]\n"
   ]
  },
  {
   "cell_type": "code",
   "execution_count": 350,
   "metadata": {},
   "outputs": [
    {
     "data": {
      "text/plain": [
       "flight_class_type\n",
       "Y    18\n",
       "Name: flight_class_type, dtype: int64"
      ]
     },
     "execution_count": 350,
     "metadata": {},
     "output_type": "execute_result"
    }
   ],
   "source": [
    "def extract_anadolujet_class_code(x):\n",
    "    return x[-1]\n",
    "\n",
    "\n",
    "mask = (df['company_name'] == \"Anadolujet\")\n",
    "anadolujet_df = df[mask]\n",
    "df.loc[mask, 'flight_class_type'] = anadolujet_df[\"flight_class_type\"].apply(\n",
    "    func=extract_anadolujet_class_code)\n",
    "\n",
    "df2 = df.groupby(['company_name', 'flight_class_type'])[\n",
    "    \"flight_class_type\"].count()\n",
    "df2[\"Anadolujet\"]\n"
   ]
  },
  {
   "cell_type": "code",
   "execution_count": 351,
   "metadata": {},
   "outputs": [
    {
     "data": {
      "text/plain": [
       "flight_class_type\n",
       "B     1\n",
       "Y    19\n",
       "Name: flight_class_type, dtype: int64"
      ]
     },
     "execution_count": 351,
     "metadata": {},
     "output_type": "execute_result"
    }
   ],
   "source": [
    "def extract_sepehran_class_code(x):\n",
    "    return x[-1]\n",
    "\n",
    "\n",
    "mask = (df['company_name'] == \"Sepehran\")\n",
    "sepehran_df = df[mask]\n",
    "df.loc[mask, 'flight_class_type'] = sepehran_df[\"flight_class_type\"].apply(\n",
    "    func=extract_sepehran_class_code)\n",
    "\n",
    "df2 = df.groupby(['company_name', 'flight_class_type'])[\n",
    "    \"flight_class_type\"].count()\n",
    "df2[\"Sepehran\"]\n"
   ]
  },
  {
   "cell_type": "code",
   "execution_count": 352,
   "metadata": {},
   "outputs": [
    {
     "data": {
      "text/plain": [
       "flight_class_type\n",
       "Y    21\n",
       "Name: flight_class_type, dtype: int64"
      ]
     },
     "execution_count": 352,
     "metadata": {},
     "output_type": "execute_result"
    }
   ],
   "source": [
    "def extract_freebird_class_code(x):\n",
    "    return x[-1]\n",
    "\n",
    "\n",
    "mask = (df['company_name'] == \"Freebird\")\n",
    "freebird_df = df[mask]\n",
    "df.loc[mask, 'flight_class_type'] = freebird_df[\"flight_class_type\"].apply(\n",
    "    func=extract_freebird_class_code)\n",
    "\n",
    "df2 = df.groupby(['company_name', 'flight_class_type'])[\n",
    "    \"flight_class_type\"].count()\n",
    "df2[\"Freebird\"]\n"
   ]
  },
  {
   "cell_type": "code",
   "execution_count": 353,
   "metadata": {},
   "outputs": [
    {
     "data": {
      "text/plain": [
       "flight_class_type\n",
       "Y    28\n",
       "Name: flight_class_type, dtype: int64"
      ]
     },
     "execution_count": 353,
     "metadata": {},
     "output_type": "execute_result"
    }
   ],
   "source": [
    "def extract_chabahar_class_code(x):\n",
    "    return x[-1]\n",
    "\n",
    "\n",
    "mask = (df['company_name'] == \"Chabahar\")\n",
    "chabahar_df = df[mask]\n",
    "df.loc[mask, 'flight_class_type'] = chabahar_df[\"flight_class_type\"].apply(\n",
    "    func=extract_chabahar_class_code)\n",
    "\n",
    "df2 = df.groupby(['company_name', 'flight_class_type'])[\n",
    "    \"flight_class_type\"].count()\n",
    "df2[\"Chabahar\"]\n"
   ]
  },
  {
   "cell_type": "code",
   "execution_count": 354,
   "metadata": {},
   "outputs": [
    {
     "data": {
      "text/plain": [
       "flight_class_type\n",
       "Y    32\n",
       "Name: flight_class_type, dtype: int64"
      ]
     },
     "execution_count": 354,
     "metadata": {},
     "output_type": "execute_result"
    }
   ],
   "source": [
    "def extract_mavi_gok_class_code(x):\n",
    "    return x[-1]\n",
    "\n",
    "\n",
    "mask = (df['company_name'] == \"MaviGok\")\n",
    "mavi_gok_df = df[mask]\n",
    "df.loc[mask, 'flight_class_type'] = mavi_gok_df[\"flight_class_type\"].apply(\n",
    "    func=extract_mavi_gok_class_code)\n",
    "\n",
    "df2 = df.groupby(['company_name', 'flight_class_type'])[\n",
    "    \"flight_class_type\"].count()\n",
    "df2[\"MaviGok\"]\n"
   ]
  },
  {
   "cell_type": "code",
   "execution_count": 355,
   "metadata": {},
   "outputs": [
    {
     "data": {
      "text/plain": [
       "flight_class_type\n",
       "Y    34\n",
       "Name: flight_class_type, dtype: int64"
      ]
     },
     "execution_count": 355,
     "metadata": {},
     "output_type": "execute_result"
    }
   ],
   "source": [
    "def extract_fly_one_class_code(x):\n",
    "    return x[-1]\n",
    "\n",
    "\n",
    "mask = (df['company_name'] == \"FlyOne\")\n",
    "fly_one_df = df[mask]\n",
    "df.loc[mask, 'flight_class_type'] = fly_one_df[\"flight_class_type\"].apply(\n",
    "    func=extract_fly_one_class_code)\n",
    "\n",
    "df2 = df.groupby(['company_name', 'flight_class_type'])[\n",
    "    \"flight_class_type\"].count()\n",
    "df2[\"FlyOne\"]\n"
   ]
  },
  {
   "cell_type": "code",
   "execution_count": 356,
   "metadata": {},
   "outputs": [
    {
     "data": {
      "text/plain": [
       "flight_class_type\n",
       "Y    101\n",
       "Name: flight_class_type, dtype: int64"
      ]
     },
     "execution_count": 356,
     "metadata": {},
     "output_type": "execute_result"
    }
   ],
   "source": [
    "def extract_baghdad_class_code(x):\n",
    "    if \"Y\" in x:\n",
    "        return \"Y\"\n",
    "    return None\n",
    "\n",
    "\n",
    "mask = (df['company_name'] == \"Baghdad\")\n",
    "baghdad_df = df[mask]\n",
    "df.loc[mask, 'flight_class_type'] = baghdad_df[\"flight_class_type\"].apply(\n",
    "    func=extract_baghdad_class_code)\n",
    "\n",
    "df2 = df.groupby(['company_name', 'flight_class_type'])[\n",
    "    \"flight_class_type\"].count()\n",
    "df2[\"Baghdad\"]\n"
   ]
  },
  {
   "cell_type": "code",
   "execution_count": 357,
   "metadata": {},
   "outputs": [
    {
     "data": {
      "text/plain": [
       "flight_class_type\n",
       "P    21\n",
       "S    48\n",
       "Y    57\n",
       "Name: flight_class_type, dtype: int64"
      ]
     },
     "execution_count": 357,
     "metadata": {},
     "output_type": "execute_result"
    }
   ],
   "source": [
    "def extract_arabia_class_code(x):\n",
    "    return x[-1]\n",
    "\n",
    "\n",
    "mask = (df['company_name'] == \"Arabia\")\n",
    "arabia_df = df[mask]\n",
    "df.loc[mask, 'flight_class_type'] = arabia_df[\"flight_class_type\"].apply(\n",
    "    func=extract_arabia_class_code)\n",
    "\n",
    "df2 = df.groupby(['company_name', 'flight_class_type'])[\n",
    "    \"flight_class_type\"].count()\n",
    "df2[\"Arabia\"]\n"
   ]
  },
  {
   "cell_type": "code",
   "execution_count": 358,
   "metadata": {},
   "outputs": [
    {
     "data": {
      "text/plain": [
       "flight_class_type\n",
       "C      27\n",
       "CB      7\n",
       "TOR     1\n",
       "Y      93\n",
       "Name: flight_class_type, dtype: int64"
      ]
     },
     "execution_count": 358,
     "metadata": {},
     "output_type": "execute_result"
    }
   ],
   "source": [
    "def extract_taban_class_code(x):\n",
    "    if 'TOR' in x:\n",
    "        return 'TOR'\n",
    "    elif len(x) > 1 and x[-2].isalpha() and x[-2].isupper():\n",
    "        return x[-2:]\n",
    "    return x[-1]\n",
    "\n",
    "\n",
    "mask = (df['company_name'] == \"Taban\")\n",
    "taban_df = df[mask]\n",
    "df.loc[mask, 'flight_class_type'] = taban_df[\"flight_class_type\"].apply(\n",
    "    func=extract_taban_class_code)\n",
    "\n",
    "df2 = df.groupby(['company_name', 'flight_class_type'])[\n",
    "    \"flight_class_type\"].count()\n",
    "df2[\"Taban\"]\n"
   ]
  },
  {
   "cell_type": "code",
   "execution_count": 359,
   "metadata": {},
   "outputs": [
    {
     "data": {
      "text/plain": [
       "flight_class_type\n",
       "L      5\n",
       "Y    134\n",
       "Name: flight_class_type, dtype: int64"
      ]
     },
     "execution_count": 359,
     "metadata": {},
     "output_type": "execute_result"
    }
   ],
   "source": [
    "def extract_meraj_class_code(x):\n",
    "    if len(x) > 1 and x[-2].isalpha() and x[-2].isupper():\n",
    "        return x[-2:]\n",
    "    return x[-1]\n",
    "\n",
    "\n",
    "mask = (df['company_name'] == \"Meraj\")\n",
    "meraj_df = df[mask]\n",
    "df.loc[mask, 'flight_class_type'] = meraj_df[\"flight_class_type\"].apply(\n",
    "    func=extract_meraj_class_code)\n",
    "\n",
    "df2 = df.groupby(['company_name', 'flight_class_type'])[\n",
    "    \"flight_class_type\"].count()\n",
    "df2[\"Meraj\"]\n"
   ]
  },
  {
   "cell_type": "code",
   "execution_count": 364,
   "metadata": {},
   "outputs": [
    {
     "data": {
      "text/plain": [
       "flight_class_type\n",
       "H      1\n",
       "L      1\n",
       "U      3\n",
       "V      2\n",
       "W      4\n",
       "Y    192\n",
       "Name: flight_class_type, dtype: int64"
      ]
     },
     "execution_count": 364,
     "metadata": {},
     "output_type": "execute_result"
    }
   ],
   "source": [
    "def extract_turkish_class_code(x):\n",
    "    return x[-1]\n",
    "\n",
    "\n",
    "mask = (df['company_name'] == \"Turkish\")\n",
    "turkish_df = df[mask]\n",
    "df.loc[mask, 'flight_class_type'] = turkish_df[\"flight_class_type\"].apply(\n",
    "    func=extract_turkish_class_code)\n",
    "\n",
    "df2 = df.groupby(['company_name', 'flight_class_type'])[\n",
    "    \"flight_class_type\"].count()\n",
    "df2[\"Turkish\"]\n"
   ]
  },
  {
   "cell_type": "code",
   "execution_count": 365,
   "metadata": {},
   "outputs": [
    {
     "data": {
      "text/plain": [
       "flight_class_type\n",
       "C     35\n",
       "J      6\n",
       "Y    195\n",
       "Name: flight_class_type, dtype: int64"
      ]
     },
     "execution_count": 365,
     "metadata": {},
     "output_type": "execute_result"
    }
   ],
   "source": [
    "def extract_iraqi_class_code(x):\n",
    "    return x[-1]\n",
    "\n",
    "\n",
    "mask = (df['company_name'] == \"Iraqi\")\n",
    "iraqi_df = df[mask]\n",
    "df.loc[mask, 'flight_class_type'] = iraqi_df[\"flight_class_type\"].apply(\n",
    "    func=extract_iraqi_class_code)\n",
    "\n",
    "df2 = df.groupby(['company_name', 'flight_class_type'])[\n",
    "    \"flight_class_type\"].count()\n",
    "df2[\"Iraqi\"]\n"
   ]
  },
  {
   "cell_type": "code",
   "execution_count": 366,
   "metadata": {},
   "outputs": [
    {
     "data": {
      "text/plain": [
       "flight_class_type\n",
       "K      19\n",
       "KE      2\n",
       "LB      2\n",
       "LE      5\n",
       "M       7\n",
       "ND      2\n",
       "P      16\n",
       "Q      15\n",
       "S      24\n",
       "TOR    75\n",
       "W      29\n",
       "Y      66\n",
       "YD      1\n",
       "Name: flight_class_type, dtype: int64"
      ]
     },
     "execution_count": 366,
     "metadata": {},
     "output_type": "execute_result"
    }
   ],
   "source": [
    "def extract_karun_class_code(x):\n",
    "    if 'TOR' in x:\n",
    "        return 'TOR'\n",
    "    elif len(x) > 1 and x[-2].isalpha() and x[-2].isupper():\n",
    "        return x[-2:]\n",
    "    return x[-1]\n",
    "\n",
    "\n",
    "mask = (df['company_name'] == \"Karun\")\n",
    "karun_df = df[mask]\n",
    "df.loc[mask, 'flight_class_type'] = karun_df[\"flight_class_type\"].apply(\n",
    "    func=extract_karun_class_code)\n",
    "\n",
    "df2 = df.groupby(['company_name', 'flight_class_type'])[\n",
    "    \"flight_class_type\"].count()\n",
    "df2[\"Karun\"]\n"
   ]
  },
  {
   "cell_type": "code",
   "execution_count": 367,
   "metadata": {},
   "outputs": [
    {
     "data": {
      "text/plain": [
       "flight_class_type\n",
       "G      4\n",
       "P      3\n",
       "T      5\n",
       "U      4\n",
       "V      1\n",
       "X      1\n",
       "Y    256\n",
       "Z      3\n",
       "Name: flight_class_type, dtype: int64"
      ]
     },
     "execution_count": 367,
     "metadata": {},
     "output_type": "execute_result"
    }
   ],
   "source": [
    "def extract_pegasus_class_code(x):\n",
    "    return x[-1]\n",
    "\n",
    "\n",
    "mask = (df['company_name'] == \"Pegasus\")\n",
    "pegasus_df = df[mask]\n",
    "df.loc[mask, 'flight_class_type'] = pegasus_df[\"flight_class_type\"].apply(\n",
    "    func=extract_pegasus_class_code)\n",
    "\n",
    "df2 = df.groupby(['company_name', 'flight_class_type'])[\n",
    "    \"flight_class_type\"].count()\n",
    "df2[\"Pegasus\"]\n"
   ]
  },
  {
   "cell_type": "code",
   "execution_count": 368,
   "metadata": {},
   "outputs": [
    {
     "data": {
      "text/plain": [
       "flight_class_type\n",
       "Y    280\n",
       "Name: flight_class_type, dtype: int64"
      ]
     },
     "execution_count": 368,
     "metadata": {},
     "output_type": "execute_result"
    }
   ],
   "source": [
    "def extract_salam_class_code(x):\n",
    "    return x[-1]\n",
    "\n",
    "\n",
    "mask = (df['company_name'] == \"Salam\")\n",
    "salam_df = df[mask]\n",
    "df.loc[mask, 'flight_class_type'] = salam_df[\"flight_class_type\"].apply(\n",
    "    func=extract_salam_class_code)\n",
    "\n",
    "df2 = df.groupby(['company_name', 'flight_class_type'])[\n",
    "    \"flight_class_type\"].count()\n",
    "df2[\"Salam\"]\n"
   ]
  },
  {
   "cell_type": "code",
   "execution_count": 370,
   "metadata": {},
   "outputs": [
    {
     "data": {
      "text/plain": [
       "flight_class_type\n",
       "A        3\n",
       "B       12\n",
       "H        1\n",
       "L        2\n",
       "LB       3\n",
       "LE       2\n",
       "LH       4\n",
       "M        2\n",
       "O        4\n",
       "SA      11\n",
       "T       12\n",
       "TOR     95\n",
       "Y      214\n",
       "YE       1\n",
       "Name: flight_class_type, dtype: int64"
      ]
     },
     "execution_count": 370,
     "metadata": {},
     "output_type": "execute_result"
    }
   ],
   "source": [
    "def extract_zagros_class_code(x):\n",
    "    if \"BoeingMD\" in x:\n",
    "        return \"Y\"\n",
    "    elif 'TOR' in x:\n",
    "        return 'TOR'\n",
    "    elif len(x) > 1 and x[-2].isalpha() and x[-2].isupper():\n",
    "        return x[-2:]\n",
    "    return x[-1]\n",
    "\n",
    "\n",
    "mask = (df['company_name'] == \"Zagros\")\n",
    "zagros_df = df[mask]\n",
    "df.loc[mask, 'flight_class_type'] = zagros_df[\"flight_class_type\"].apply(\n",
    "    func=extract_zagros_class_code)\n",
    "\n",
    "df2 = df.groupby(['company_name', 'flight_class_type'])[\n",
    "    \"flight_class_type\"].count()\n",
    "df2[\"Zagros\"]\n"
   ]
  },
  {
   "cell_type": "code",
   "execution_count": 371,
   "metadata": {},
   "outputs": [
    {
     "data": {
      "text/plain": [
       "flight_class_type\n",
       "C      54\n",
       "DY      5\n",
       "PL      4\n",
       "RB      6\n",
       "RF     15\n",
       "RH      5\n",
       "RK      3\n",
       "RL      1\n",
       "RP     24\n",
       "RR    236\n",
       "RS      6\n",
       "RV      1\n",
       "RY      6\n",
       "Y      29\n",
       "Name: flight_class_type, dtype: int64"
      ]
     },
     "execution_count": 371,
     "metadata": {},
     "output_type": "execute_result"
    }
   ],
   "source": [
    "def extract_kish_class_code(x):\n",
    "    if len(x) > 1 and x[-2].isalpha() and x[-2].isupper():\n",
    "        return x[-2:]\n",
    "    return x[-1]\n",
    "\n",
    "\n",
    "mask = (df['company_name'] == \"Kish\")\n",
    "kish_df = df[mask]\n",
    "df.loc[mask, 'flight_class_type'] = kish_df[\"flight_class_type\"].apply(\n",
    "    func=extract_kish_class_code)\n",
    "\n",
    "df2 = df.groupby(['company_name', 'flight_class_type'])[\n",
    "    \"flight_class_type\"].count()\n",
    "df2[\"Kish\"]\n"
   ]
  },
  {
   "cell_type": "code",
   "execution_count": 372,
   "metadata": {},
   "outputs": [
    {
     "data": {
      "text/plain": [
       "flight_class_type\n",
       "C     69\n",
       "D     55\n",
       "W     36\n",
       "Y    305\n",
       "Name: flight_class_type, dtype: int64"
      ]
     },
     "execution_count": 372,
     "metadata": {},
     "output_type": "execute_result"
    }
   ],
   "source": [
    "def extract_aseman_class_code(x):\n",
    "    return x[-1]\n",
    "\n",
    "\n",
    "mask = (df['company_name'] == \"Aseman\")\n",
    "aseman_df = df[mask]\n",
    "df.loc[mask, 'flight_class_type'] = aseman_df[\"flight_class_type\"].apply(\n",
    "    func=extract_aseman_class_code)\n",
    "\n",
    "df2 = df.groupby(['company_name', 'flight_class_type'])[\n",
    "    \"flight_class_type\"].count()\n",
    "df2[\"Aseman\"]\n"
   ]
  },
  {
   "cell_type": "code",
   "execution_count": 373,
   "metadata": {},
   "outputs": [
    {
     "data": {
      "text/plain": [
       "flight_class_type\n",
       "B        1\n",
       "D        1\n",
       "E        3\n",
       "H        1\n",
       "I        1\n",
       "J        4\n",
       "L        5\n",
       "M        4\n",
       "N        3\n",
       "Q        1\n",
       "R        3\n",
       "TOR     47\n",
       "W       78\n",
       "Y      339\n",
       "ZB       3\n",
       "ZF       1\n",
       "Name: flight_class_type, dtype: int64"
      ]
     },
     "execution_count": 373,
     "metadata": {},
     "output_type": "execute_result"
    }
   ],
   "source": [
    "def extract_caspian_class_code(x):\n",
    "    if \"MDY\" in x:\n",
    "        return \"Y\"\n",
    "    elif 'TOR' in x:\n",
    "        return 'TOR'\n",
    "    elif len(x) > 1 and x[-2].isalpha() and x[-2].isupper():\n",
    "        return x[-2:]\n",
    "    return x[-1]\n",
    "\n",
    "mask = (df['company_name'] == \"Caspian\")\n",
    "caspian_df = df[mask]\n",
    "df.loc[mask, 'flight_class_type'] = caspian_df[\"flight_class_type\"].apply(\n",
    "    func=extract_caspian_class_code)\n",
    "\n",
    "df2 = df.groupby(['company_name', 'flight_class_type'])[\n",
    "    \"flight_class_type\"].count()\n",
    "df2[\"Caspian\"]\n"
   ]
  },
  {
   "cell_type": "code",
   "execution_count": 374,
   "metadata": {},
   "outputs": [
    {
     "data": {
      "text/plain": [
       "flight_class_type\n",
       "B        3\n",
       "EB       1\n",
       "H        7\n",
       "KH       2\n",
       "KI       4\n",
       "KL      20\n",
       "L       10\n",
       "M        1\n",
       "MB       3\n",
       "Q        2\n",
       "S        4\n",
       "TOR    100\n",
       "Y      389\n",
       "Name: flight_class_type, dtype: int64"
      ]
     },
     "execution_count": 374,
     "metadata": {},
     "output_type": "execute_result"
    }
   ],
   "source": [
    "def extract_varesh_class_code(x):\n",
    "    if 'TOR' in x:\n",
    "        return 'TOR'\n",
    "    elif len(x) > 1 and x[-2].isalpha() and x[-2].isupper():\n",
    "        return x[-2:]\n",
    "    return x[-1]\n",
    "\n",
    "\n",
    "mask = (df['company_name'] == \"Varesh\")\n",
    "varesh_df = df[mask]\n",
    "df.loc[mask, 'flight_class_type'] = varesh_df[\"flight_class_type\"].apply(\n",
    "    func=extract_varesh_class_code)\n",
    "\n",
    "df2 = df.groupby(['company_name', 'flight_class_type'])[\n",
    "    \"flight_class_type\"].count()\n",
    "df2[\"Varesh\"]\n"
   ]
  },
  {
   "cell_type": "code",
   "execution_count": 375,
   "metadata": {},
   "outputs": [
    {
     "data": {
      "text/plain": [
       "flight_class_type\n",
       "A        2\n",
       "D        2\n",
       "H        4\n",
       "I        3\n",
       "L       19\n",
       "M        1\n",
       "N        1\n",
       "QO       2\n",
       "TOR    129\n",
       "X        1\n",
       "Y      433\n",
       "Name: flight_class_type, dtype: int64"
      ]
     },
     "execution_count": 375,
     "metadata": {},
     "output_type": "execute_result"
    }
   ],
   "source": [
    "def extract_ata_class_code(x):\n",
    "    if 'TOR' in x:\n",
    "        return 'TOR'\n",
    "    elif len(x) > 1 and x[-2].isalpha() and x[-2].isupper():\n",
    "        return x[-2:]\n",
    "    return x[-1]\n",
    "\n",
    "\n",
    "mask = (df['company_name'] == \"ATA\")\n",
    "ata_df = df[mask]\n",
    "df.loc[mask, 'flight_class_type'] = ata_df[\"flight_class_type\"].apply(\n",
    "    func=extract_ata_class_code)\n",
    "\n",
    "df2 = df.groupby(['company_name', 'flight_class_type'])[\n",
    "    \"flight_class_type\"].count()\n",
    "df2[\"ATA\"]\n"
   ]
  },
  {
   "cell_type": "code",
   "execution_count": 376,
   "metadata": {},
   "outputs": [
    {
     "data": {
      "text/plain": [
       "flight_class_type\n",
       "B       4\n",
       "C       6\n",
       "D       1\n",
       "I       6\n",
       "J      45\n",
       "K      22\n",
       "L       1\n",
       "M      23\n",
       "N       8\n",
       "Q      20\n",
       "RK      3\n",
       "RQ      1\n",
       "RS      3\n",
       "RV     17\n",
       "RY      3\n",
       "S       1\n",
       "V      49\n",
       "W      26\n",
       "Y     514\n",
       "Name: flight_class_type, dtype: int64"
      ]
     },
     "execution_count": 376,
     "metadata": {},
     "output_type": "execute_result"
    }
   ],
   "source": [
    "def extract_iranair_class_code(x):\n",
    "    if len(x) > 1 and x[-2].isalpha() and x[-2].isupper():\n",
    "        return x[-2:]\n",
    "    return x[-1]\n",
    "\n",
    "\n",
    "mask = (df['company_name'] == \"Iranair\")\n",
    "iranair_df = df[mask]\n",
    "df.loc[mask, 'flight_class_type'] = iranair_df[\"flight_class_type\"].apply(\n",
    "    func=extract_iranair_class_code)\n",
    "\n",
    "df2 = df.groupby(['company_name', 'flight_class_type'])[\n",
    "    \"flight_class_type\"].count()\n",
    "df2[\"Iranair\"]\n"
   ]
  },
  {
   "cell_type": "code",
   "execution_count": 377,
   "metadata": {},
   "outputs": [
    {
     "data": {
      "text/plain": [
       "flight_class_type\n",
       "K      46\n",
       "KK     26\n",
       "L      52\n",
       "LL     25\n",
       "M      24\n",
       "M2      6\n",
       "MM     13\n",
       "N      38\n",
       "NN     18\n",
       "Q     101\n",
       "QQ     57\n",
       "R     129\n",
       "RR     76\n",
       "T      51\n",
       "TT     28\n",
       "X      77\n",
       "XX     40\n",
       "Y     104\n",
       "YY     66\n",
       "Name: flight_class_type, dtype: int64"
      ]
     },
     "execution_count": 377,
     "metadata": {},
     "output_type": "execute_result"
    }
   ],
   "source": [
    "def extract_armenia_class_code(x):\n",
    "    m = x[-2:]\n",
    "    if len(x) in [1, 2]:\n",
    "        return x\n",
    "    elif x.find(\"-\") == -1 and x[-2].isalpha():\n",
    "        return x[-2:]\n",
    "    return x[-1]\n",
    "\n",
    "\n",
    "mask = (df['company_name'] == \"Armenia\")\n",
    "armenia_df = df[mask]\n",
    "df.loc[mask, 'flight_class_type'] = armenia_df[\"flight_class_type\"].apply(\n",
    "    func=extract_armenia_class_code)\n",
    "\n",
    "df2 = df.groupby(['company_name', 'flight_class_type'])[\n",
    "    \"flight_class_type\"].count()\n",
    "df2[\"Armenia\"]\n"
   ]
  },
  {
   "cell_type": "code",
   "execution_count": 378,
   "metadata": {},
   "outputs": [
    {
     "data": {
      "text/plain": [
       "flight_class_type\n",
       "C         3\n",
       "J       182\n",
       "Y       901\n",
       "Y17       2\n",
       "Y26       2\n",
       "Y29       1\n",
       "Y31       9\n",
       "Y33       6\n",
       "Y34       2\n",
       "Y35       2\n",
       "Y36       4\n",
       "Y37       3\n",
       "Y39       7\n",
       "Y41       5\n",
       "Y42       2\n",
       "Y43       2\n",
       "Y45       3\n",
       "Y47      13\n",
       "Y489      6\n",
       "Y49       2\n",
       "Y491      8\n",
       "Y492      4\n",
       "Y493     19\n",
       "Y51       6\n",
       "Y53       5\n",
       "Y54       2\n",
       "Y55      11\n",
       "Y56       4\n",
       "Y57       2\n",
       "Y7        2\n",
       "Name: flight_class_type, dtype: int64"
      ]
     },
     "execution_count": 378,
     "metadata": {},
     "output_type": "execute_result"
    }
   ],
   "source": [
    "def extract_airtour_class_code(x):\n",
    "    if \"Y\" in x:\n",
    "        return x[x.index(\"Y\"):]\n",
    "    return x[-1]\n",
    "\n",
    "\n",
    "mask = (df['company_name'] == \"Airtour\")\n",
    "airtour_df = df[mask]\n",
    "df.loc[mask, 'flight_class_type'] = airtour_df[\"flight_class_type\"].apply(func=extract_airtour_class_code)\n",
    "\n",
    "df2 = df.groupby(['company_name', 'flight_class_type'])[\"flight_class_type\"].count()\n",
    "df2[\"Airtour\"]\n"
   ]
  },
  {
   "cell_type": "code",
   "execution_count": 379,
   "metadata": {},
   "outputs": [
    {
     "data": {
      "text/plain": [
       "flight_class_type\n",
       "C       16\n",
       "FS     101\n",
       "N        5\n",
       "Y     1184\n",
       "Name: flight_class_type, dtype: int64"
      ]
     },
     "execution_count": 379,
     "metadata": {},
     "output_type": "execute_result"
    }
   ],
   "source": [
    "def extract_dubai_class_code(x):\n",
    "    if \"FS\" in x:\n",
    "        return \"FS\"\n",
    "    return x[-1]\n",
    "\n",
    "\n",
    "mask = (df['company_name'] == \"Dubai\")\n",
    "dubai_df = df[mask]\n",
    "df.loc[mask, 'flight_class_type'] = dubai_df[\"flight_class_type\"].apply(func=extract_dubai_class_code)\n",
    "\n",
    "df2 = df.groupby(['company_name', 'flight_class_type'])[\"flight_class_type\"].count()\n",
    "df2[\"Dubai\"]\n"
   ]
  },
  {
   "cell_type": "code",
   "execution_count": 380,
   "metadata": {},
   "outputs": [
    {
     "data": {
      "text/plain": [
       "flight_class_type\n",
       "A     640\n",
       "B     172\n",
       "C     412\n",
       "E       7\n",
       "H     183\n",
       "J      88\n",
       "K     184\n",
       "L     122\n",
       "M      90\n",
       "N      58\n",
       "Q      32\n",
       "R       4\n",
       "S     138\n",
       "V      10\n",
       "W     349\n",
       "X       2\n",
       "Y    1053\n",
       "Z      36\n",
       "Name: flight_class_type, dtype: int64"
      ]
     },
     "execution_count": 380,
     "metadata": {},
     "output_type": "execute_result"
    }
   ],
   "source": [
    "def extract_qeshm_class_code(x):\n",
    "    return x[-1]\n",
    "\n",
    "mask = (df['company_name'] == \"Qeshm\")\n",
    "qeshm_df = df[mask]\n",
    "df.loc[mask, 'flight_class_type'] = qeshm_df[\"flight_class_type\"].apply(func=extract_mahan_class_code)\n",
    "\n",
    "df2 = df.groupby(['company_name', 'flight_class_type'])[\"flight_class_type\"].count()\n",
    "df2[\"Qeshm\"]\n"
   ]
  },
  {
   "cell_type": "code",
   "execution_count": 381,
   "metadata": {},
   "outputs": [
    {
     "data": {
      "text/plain": [
       "flight_class_type\n",
       "B      13\n",
       "BH      2\n",
       "C     338\n",
       "E       8\n",
       "P       8\n",
       "W     162\n",
       "Y     811\n",
       "Name: flight_class_type, dtype: int64"
      ]
     },
     "execution_count": 381,
     "metadata": {},
     "output_type": "execute_result"
    }
   ],
   "source": [
    "def extract_mahan_class_code(x):\n",
    "    if len(x) == 2:\n",
    "        return x\n",
    "    return x.split(\"_\")[0][-1]\n",
    "\n",
    "\n",
    "mask = (df['company_name'] == \"Mahan\")\n",
    "mahan_df = df[mask]\n",
    "df.loc[mask, 'flight_class_type'] = mahan_df[\"flight_class_type\"].apply(func=extract_mahan_class_code)\n",
    "\n",
    "df2 = df.groupby(['company_name', 'flight_class_type'])[\"flight_class_type\"].count()\n",
    "df2[\"Mahan\"]"
   ]
  },
  {
   "cell_type": "code",
   "execution_count": null,
   "metadata": {},
   "outputs": [],
   "source": [
    "df.to_csv(\"/home/magnus9102/Mostafa/Py/Github/data-science/mostafa_vahdani_bachelor_project/data/processed/flight_tickets_dataset.csv\", index=False)\n"
   ]
  }
 ],
 "metadata": {
  "kernelspec": {
   "display_name": "base",
   "language": "python",
   "name": "python3"
  },
  "language_info": {
   "codemirror_mode": {
    "name": "ipython",
    "version": 3
   },
   "file_extension": ".py",
   "mimetype": "text/x-python",
   "name": "python",
   "nbconvert_exporter": "python",
   "pygments_lexer": "ipython3",
   "version": "3.10.9"
  },
  "orig_nbformat": 4
 },
 "nbformat": 4,
 "nbformat_minor": 2
}
