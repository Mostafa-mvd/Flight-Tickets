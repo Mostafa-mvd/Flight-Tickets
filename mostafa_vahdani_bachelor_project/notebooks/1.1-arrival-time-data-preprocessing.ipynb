{
 "cells": [
  {
   "cell_type": "code",
   "execution_count": null,
   "metadata": {},
   "outputs": [],
   "source": [
    "import pandas as pd\n",
    "import pytz\n",
    "\n",
    "from jdatetime import datetime, timedelta"
   ]
  },
  {
   "cell_type": "code",
   "execution_count": null,
   "metadata": {},
   "outputs": [],
   "source": [
    "df = pd.read_csv(\"/home/magnus9102/Mostafa/Py/Github/data-science/mostafa_vahdani_bachelor_project/data/processed/flight_tickets_dataset.csv\")"
   ]
  },
  {
   "cell_type": "code",
   "execution_count": null,
   "metadata": {},
   "outputs": [],
   "source": [
    "def estimate_arrival_time(row):\n",
    "    arrival_time = row[\"local_arrival_time\"]\n",
    "    if pd.isnull(arrival_time):\n",
    "        local_departure_timezone = pytz.timezone('Asia/Tehran')\n",
    "        departure_time_hour, departure_time_minute = row[\"local_departure_time\"].split(\n",
    "            \":\")\n",
    "        year, month, day = row[\"departure_date_YMD_format\"].split(\"-\")\n",
    "        flight_length_hour = row[\"flight_length_min\"] / 60\n",
    "        hour_part = int(flight_length_hour)\n",
    "        min_part = (flight_length_hour - hour_part) * 60\n",
    "\n",
    "        departure_time_obj = datetime(\n",
    "            year=int(year), month=int(month), day=int(day), hour=int(departure_time_hour),\n",
    "            minute=int(departure_time_minute), tzinfo=local_departure_timezone)\n",
    "\n",
    "        estimated_arrival_time = departure_time_obj + \\\n",
    "            timedelta(hours=hour_part, minutes=min_part)\n",
    "        return datetime.strftime(estimated_arrival_time, '%H:%M')\n",
    "    return arrival_time\n",
    "\n",
    "\n",
    "df[\"local_arrival_time\"] = df.apply(func=estimate_arrival_time, axis=1)\n"
   ]
  },
  {
   "cell_type": "code",
   "execution_count": null,
   "metadata": {},
   "outputs": [],
   "source": [
    "df.head(5)"
   ]
  }
 ],
 "metadata": {
  "kernelspec": {
   "display_name": "base",
   "language": "python",
   "name": "python3"
  },
  "language_info": {
   "codemirror_mode": {
    "name": "ipython",
    "version": 3
   },
   "file_extension": ".py",
   "mimetype": "text/x-python",
   "name": "python",
   "nbconvert_exporter": "python",
   "pygments_lexer": "ipython3",
   "version": "3.10.9"
  },
  "orig_nbformat": 4
 },
 "nbformat": 4,
 "nbformat_minor": 2
}
