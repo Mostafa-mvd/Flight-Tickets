{
 "cells": [
  {
   "cell_type": "code",
   "execution_count": 156,
   "metadata": {},
   "outputs": [],
   "source": [
    "import pandas as pd\n",
    "import pytz\n",
    "\n",
    "from common_utils.utils import get_json_obj\n",
    "from haversine import haversine, Unit\n",
    "from datetime import datetime, timedelta\n"
   ]
  },
  {
   "cell_type": "code",
   "execution_count": 157,
   "metadata": {},
   "outputs": [],
   "source": [
    "airports_geometry = get_json_obj(\"/home/magnus9102/Mostafa/Py/Github/data-science/mostafa_vahdani_bachelor_project/source_codes/data/static/airports_geometry.json\")"
   ]
  },
  {
   "cell_type": "code",
   "execution_count": 158,
   "metadata": {},
   "outputs": [],
   "source": [
    "df = pd.read_csv(\"/home/magnus9102/Mostafa/Py/Github/data-science/mostafa_vahdani_bachelor_project/data/raw/flight_tickets_dataset.csv\")"
   ]
  },
  {
   "cell_type": "code",
   "execution_count": 171,
   "metadata": {},
   "outputs": [],
   "source": [
    "airport_name1, coord1 = airports_geometry[\"KIH\"][\"aeroway_name\"], airports_geometry[\"KIH\"][\"geometry\"]\n"
   ]
  },
  {
   "cell_type": "code",
   "execution_count": 172,
   "metadata": {},
   "outputs": [],
   "source": [
    "airport_name2, coord2 = airports_geometry[\"TBZ\"][\"aeroway_name\"], airports_geometry[\"TBZ\"][\"geometry\"]\n"
   ]
  },
  {
   "cell_type": "code",
   "execution_count": 173,
   "metadata": {},
   "outputs": [
    {
     "data": {
      "text/plain": [
       "([26.5299696, 53.975013], [38.1355697, 46.2460114])"
      ]
     },
     "execution_count": 173,
     "metadata": {},
     "output_type": "execute_result"
    }
   ],
   "source": [
    "coord1, coord2"
   ]
  },
  {
   "cell_type": "code",
   "execution_count": 174,
   "metadata": {},
   "outputs": [
    {
     "data": {
      "text/plain": [
       "('Kish International Airport', 'Tabriz International Airport')"
      ]
     },
     "execution_count": 174,
     "metadata": {},
     "output_type": "execute_result"
    }
   ],
   "source": [
    "airport_name1, airport_name2"
   ]
  },
  {
   "cell_type": "code",
   "execution_count": 177,
   "metadata": {},
   "outputs": [
    {
     "data": {
      "text/plain": [
       "(1479.3508295325785, 'duration: 2 H - 33 Min')"
      ]
     },
     "execution_count": 177,
     "metadata": {},
     "output_type": "execute_result"
    }
   ],
   "source": [
    "estimate_great_distance = haversine(coord1, coord2, Unit.KILOMETERS, normalize=True)\n",
    "\n",
    "# 10 to 20 min\n",
    "max_landing_hour_time = 10 / 60\n",
    "# 10 to 30 min\n",
    "max_hour_time_to_cruise_from_take_off = 10 / 60\n",
    "# 15 to 45 min\n",
    "max_flight_delay_time = 30 / 60\n",
    "# max -> 50km\n",
    "airplane_route_average_changes_km = 50\n",
    "# speed of airplane on cruise -> 885.13 to 965.6\n",
    "v_km = 885.13  # 885.13 and 965.6 kmph\n",
    "\n",
    "time_t = ((estimate_great_distance + airplane_route_average_changes_km) / v_km) + max_landing_hour_time + \\\n",
    "    max_hour_time_to_cruise_from_take_off + max_flight_delay_time\n",
    "\n",
    "hour_t = int(time_t)\n",
    "min_t = int((time_t - hour_t) * 60)\n",
    "\n",
    "max_flight_length = f\"duration: {hour_t} H - {min_t} Min\"\n",
    "\n",
    "estimate_great_distance, max_flight_length"
   ]
  },
  {
   "cell_type": "code",
   "execution_count": 164,
   "metadata": {},
   "outputs": [],
   "source": [
    "departure_timezone = pytz.timezone('Asia/Tehran')\n",
    "arrival_timezone = pytz.timezone('Asia/Dubai')\n",
    "\n",
    "departure_time = datetime(2023, 8, 29, 15, 50, tzinfo=departure_timezone)\n",
    "\n",
    "# Calculate estimated arrival time (e.g., 6 hours flight duration)\n",
    "estimated_arrival_time = departure_time + timedelta(hours=time_t)\n",
    "\n",
    "time_difference = estimated_arrival_time - departure_time\n",
    "\n",
    "converted_departure_datetime = departure_time.astimezone(departure_timezone)\n",
    "converted_arrival_datetime = estimated_arrival_time.astimezone(arrival_timezone)\n"
   ]
  },
  {
   "cell_type": "code",
   "execution_count": 165,
   "metadata": {},
   "outputs": [
    {
     "data": {
      "text/plain": [
       "(175.21575764813966,\n",
       " 2.8891794825396606,\n",
       " datetime.datetime(2023, 8, 29, 18, 43, 21, 46137, tzinfo=<DstTzInfo 'Asia/Tehran' LMT+3:26:00 STD>),\n",
       " datetime.timedelta(seconds=10401, microseconds=46137),\n",
       " datetime.datetime(2023, 8, 29, 15, 50, tzinfo=<DstTzInfo 'Asia/Tehran' LMT+3:26:00 STD>),\n",
       " datetime.datetime(2023, 8, 29, 19, 17, 21, 46137, tzinfo=<DstTzInfo 'Asia/Dubai' +04+4:00:00 STD>))"
      ]
     },
     "execution_count": 165,
     "metadata": {},
     "output_type": "execute_result"
    }
   ],
   "source": [
    "estimate_distance, time_t, estimated_arrival_time, time_difference, converted_departure_datetime, converted_arrival_datetime\n"
   ]
  },
  {
   "cell_type": "code",
   "execution_count": 166,
   "metadata": {},
   "outputs": [],
   "source": [
    "def difference_drop(df, *args):\n",
    "    \"\"\"difference drop with column names that you will give on *args\"\"\"\n",
    "    return df.drop(columns=df.columns.difference([*args]), axis=1)\n"
   ]
  },
  {
   "cell_type": "code",
   "execution_count": 167,
   "metadata": {},
   "outputs": [],
   "source": [
    "df2 = difference_drop(df, \"national_departure_code\", \"national_arrival_code\")\n"
   ]
  },
  {
   "cell_type": "code",
   "execution_count": 169,
   "metadata": {},
   "outputs": [],
   "source": [
    "def add_orthodromic_distance_col(row, airports_geometry_dict):\n",
    "    departure_airport_code = row[\"national_departure_code\"]\n",
    "    arrival_airport_code = row[\"national_arrival_code\"]\n",
    "\n",
    "    departure_airport_coordinate = airports_geometry_dict[departure_airport_code][\"geometry\"]\n",
    "    arrival_airport_coordinate = airports_geometry_dict[arrival_airport_code][\"geometry\"]\n",
    "\n",
    "    return round(haversine(departure_airport_coordinate, \n",
    "                     arrival_airport_coordinate, \n",
    "                     Unit.KILOMETERS, \n",
    "                     \n",
    "                     normalize=True))\n",
    "\n",
    "\n",
    "df[\"distance_KM\"] = df2.apply(func=add_orthodromic_distance_col,\n",
    "                           args=(airports_geometry,),\n",
    "                           axis=1)\n"
   ]
  },
  {
   "cell_type": "code",
   "execution_count": 170,
   "metadata": {},
   "outputs": [
    {
     "data": {
      "text/plain": [
       "0     538\n",
       "1    1057\n",
       "2    1057\n",
       "3     570\n",
       "4    1057\n",
       "Name: distance_KM, dtype: int64"
      ]
     },
     "execution_count": 170,
     "metadata": {},
     "output_type": "execute_result"
    }
   ],
   "source": [
    "df[\"distance_KM\"].head(5)"
   ]
  },
  {
   "cell_type": "code",
   "execution_count": 40,
   "metadata": {},
   "outputs": [],
   "source": [
    "df.to_csv(\"/home/magnus9102/Mostafa/Py/Github/data-science/mostafa_vahdani_bachelor_project/data/processed/flight_tickets_dataset.csv\")"
   ]
  }
 ],
 "metadata": {
  "kernelspec": {
   "display_name": "flight-tickets-project",
   "language": "python",
   "name": "python3"
  },
  "language_info": {
   "codemirror_mode": {
    "name": "ipython",
    "version": 3
   },
   "file_extension": ".py",
   "mimetype": "text/x-python",
   "name": "python",
   "nbconvert_exporter": "python",
   "pygments_lexer": "ipython3",
   "version": "3.10.9"
  },
  "orig_nbformat": 4,
  "vscode": {
   "interpreter": {
    "hash": "64d9060802de44a9b4cb1045ac8a04030fb53cdd768d59a8084aec2e67ec1b8f"
   }
  }
 },
 "nbformat": 4,
 "nbformat_minor": 2
}
