{
 "cells": [
  {
   "cell_type": "code",
   "execution_count": null,
   "metadata": {},
   "outputs": [],
   "source": [
    "import pandas as pd\n",
    "\n",
    "from math import sqrt\n",
    "\n",
    "from mlxtend.regressor import StackingRegressor\n",
    "\n",
    "from sklearn.linear_model import LinearRegression, ElasticNet, BayesianRidge\n",
    "from sklearn.discriminant_analysis import StandardScaler\n",
    "from sklearn.model_selection import train_test_split\n",
    "from sklearn.metrics import mean_absolute_error, mean_squared_error, r2_score\n"
   ]
  },
  {
   "cell_type": "code",
   "execution_count": null,
   "metadata": {},
   "outputs": [],
   "source": [
    "final_dataset_path = \"/home/magnus9102/Mostafa/Py/Github/data-science/mostafa_vahdani_bachelor_project/data/interim/final_flight_tickets_dataset.csv\""
   ]
  },
  {
   "cell_type": "code",
   "execution_count": null,
   "metadata": {},
   "outputs": [],
   "source": [
    "df = pd.read_csv(final_dataset_path)"
   ]
  },
  {
   "cell_type": "code",
   "execution_count": null,
   "metadata": {},
   "outputs": [],
   "source": [
    "y = df['ticket_price_T']\n",
    "X = df.drop('ticket_price_T', axis=1)"
   ]
  },
  {
   "cell_type": "code",
   "execution_count": null,
   "metadata": {},
   "outputs": [],
   "source": [
    "scaler = StandardScaler()"
   ]
  },
  {
   "cell_type": "code",
   "execution_count": null,
   "metadata": {},
   "outputs": [],
   "source": [
    "X_t = scaler.fit_transform(X)"
   ]
  },
  {
   "cell_type": "code",
   "execution_count": null,
   "metadata": {},
   "outputs": [],
   "source": [
    "x_train, x_test, y_train, y_test = train_test_split(X_t, y, test_size=0.2)"
   ]
  },
  {
   "cell_type": "code",
   "execution_count": null,
   "metadata": {},
   "outputs": [],
   "source": [
    "linear_model = LinearRegression()\n",
    "bayesian_ridge = BayesianRidge(max_iter=250, alpha_1=0.01)\n",
    "elastic_net = ElasticNet(alpha=0.8, l1_ratio=0.7, max_iter=300)\n",
    "\n",
    "model = StackingRegressor(regressors=[linear_model, bayesian_ridge, elastic_net], meta_regressor=elastic_net)\n",
    "model.fit(x_train, y_train)"
   ]
  },
  {
   "cell_type": "code",
   "execution_count": null,
   "metadata": {},
   "outputs": [],
   "source": [
    "y_train_pred = model.predict(x_train)\n",
    "y_train_pred\n"
   ]
  },
  {
   "cell_type": "code",
   "execution_count": null,
   "metadata": {},
   "outputs": [],
   "source": [
    "y_test_pred = model.predict(x_test)\n",
    "y_test_pred\n"
   ]
  },
  {
   "cell_type": "code",
   "execution_count": null,
   "metadata": {},
   "outputs": [],
   "source": [
    "x_test_inverse = scaler.inverse_transform(x_test)\n",
    "x_test_df = pd.DataFrame(x_test_inverse, columns=X.columns)\n",
    "y_test_pred_df = pd.DataFrame(y_test_pred, columns=[\"ticket_price_T\"])\n",
    "final_df = pd.concat([y_test_pred_df, x_test_df], axis=1)\n",
    "\n",
    "final_df.head()\n"
   ]
  },
  {
   "cell_type": "code",
   "execution_count": null,
   "metadata": {},
   "outputs": [],
   "source": [
    "# We have a regression problem so we have to use regression metrics to evaluate our prediction.\n",
    "# We can't use roc_auc_score, classification_report or confusion_matrix bcz these are for classification problem not regression.\n",
    "# The skill or performance of a regression model must be reported as an \"error\" in those predictions.\n"
   ]
  },
  {
   "cell_type": "code",
   "execution_count": null,
   "metadata": {},
   "outputs": [],
   "source": [
    "# As regression involves predicting continuous values rather than discrete class, in otherwise\n",
    "# ‌regression refers to predictive modeling problems that involve predicting a numeric value.\n"
   ]
  },
  {
   "cell_type": "code",
   "execution_count": null,
   "metadata": {},
   "outputs": [],
   "source": [
    "# Evaluating Regression Models: \n",
    "# You have to calculate 'error metrics' for regression\n",
    "# Calculating and reporting mean squared error, root mean squared error, and mean absolute error.\n"
   ]
  },
  {
   "cell_type": "code",
   "execution_count": null,
   "metadata": {},
   "outputs": [],
   "source": [
    "# The best possible score is 1 which is obtained when the predicted values are the same as the actual values.\n",
    "\"R-squared: \", round(r2_score(y_train, y_train_pred), 3)\n"
   ]
  },
  {
   "cell_type": "code",
   "execution_count": null,
   "metadata": {},
   "outputs": [],
   "source": [
    "# A perfect \"mean squared error\" value is 0.0, which means that all predictions matched the expected values exactly.\n",
    "\"Mean squared error: \", round(mean_squared_error(y_train, y_train_pred), 3)\n"
   ]
  },
  {
   "cell_type": "code",
   "execution_count": null,
   "metadata": {},
   "outputs": [],
   "source": [
    "# A perfect \"root mean squared error\" value is 0.0, which means that all predictions matched the expected values exactly.\n",
    "\"Root mean squared error: \", round(sqrt(mean_squared_error(y_train, y_train_pred)), 3)\n"
   ]
  },
  {
   "cell_type": "code",
   "execution_count": null,
   "metadata": {},
   "outputs": [],
   "source": [
    "# A perfect \"mean absolute error\" value is 0.0, which means that all predictions matched the expected values exactly.\n",
    "\"Mean absolute error: \", round(mean_absolute_error(y_train, y_train_pred), 3)\n"
   ]
  }
 ],
 "metadata": {
  "kernelspec": {
   "display_name": "base",
   "language": "python",
   "name": "python3"
  },
  "language_info": {
   "codemirror_mode": {
    "name": "ipython",
    "version": 3
   },
   "file_extension": ".py",
   "mimetype": "text/x-python",
   "name": "python",
   "nbconvert_exporter": "python",
   "pygments_lexer": "ipython3",
   "version": "3.10.9"
  },
  "orig_nbformat": 4
 },
 "nbformat": 4,
 "nbformat_minor": 2
}
