{
 "cells": [
  {
   "cell_type": "code",
   "execution_count": null,
   "metadata": {},
   "outputs": [],
   "source": [
    "import pandas as pd\n",
    "\n",
    "from common_utils.utils import get_json_obj\n",
    "from haversine import haversine, Unit\n",
    "from random import randint"
   ]
  },
  {
   "cell_type": "code",
   "execution_count": null,
   "metadata": {},
   "outputs": [],
   "source": [
    "airports_geometry = get_json_obj(\"/home/magnus9102/Mostafa/Py/Github/data-science/mostafa_vahdani_bachelor_project/source_codes/data/static/airports_geometry.json\")"
   ]
  },
  {
   "cell_type": "code",
   "execution_count": null,
   "metadata": {},
   "outputs": [],
   "source": [
    "df = pd.read_csv(\"/home/magnus9102/Mostafa/Py/Github/data-science/mostafa_vahdani_bachelor_project/data/raw/flight_tickets_dataset.csv\")"
   ]
  },
  {
   "cell_type": "code",
   "execution_count": null,
   "metadata": {},
   "outputs": [],
   "source": [
    "airport_name1, coord1 = airports_geometry[\"MHD\"][\"aeroway_name\"], airports_geometry[\"MHD\"][\"geometry\"]\n"
   ]
  },
  {
   "cell_type": "code",
   "execution_count": null,
   "metadata": {},
   "outputs": [],
   "source": [
    "airport_name2, coord2 = airports_geometry[\"THR\"][\"aeroway_name\"], airports_geometry[\"THR\"][\"geometry\"]\n"
   ]
  },
  {
   "cell_type": "code",
   "execution_count": null,
   "metadata": {},
   "outputs": [],
   "source": [
    "coord1, coord2"
   ]
  },
  {
   "cell_type": "code",
   "execution_count": null,
   "metadata": {},
   "outputs": [],
   "source": [
    "airport_name1, airport_name2"
   ]
  },
  {
   "cell_type": "code",
   "execution_count": null,
   "metadata": {},
   "outputs": [],
   "source": [
    "def difference_drop(df, *args):\n",
    "    \"\"\"difference drop with column names that you will give on *args\"\"\"\n",
    "    return df.drop(columns=df.columns.difference([*args]), axis=1)\n"
   ]
  },
  {
   "cell_type": "code",
   "execution_count": null,
   "metadata": {},
   "outputs": [],
   "source": [
    "df2 = difference_drop(df, \"national_departure_code\", \"national_arrival_code\")\n"
   ]
  },
  {
   "cell_type": "code",
   "execution_count": null,
   "metadata": {},
   "outputs": [],
   "source": [
    "def orthodromic_distance(row, airports_geometry_dict):\n",
    "    departure_airport_code = row[\"national_departure_code\"]\n",
    "    arrival_airport_code = row[\"national_arrival_code\"]\n",
    "\n",
    "    departure_airport_coordinate = airports_geometry_dict[departure_airport_code][\"geometry\"]\n",
    "    arrival_airport_coordinate = airports_geometry_dict[arrival_airport_code][\"geometry\"]\n",
    "\n",
    "    return round(haversine(departure_airport_coordinate, \n",
    "                     arrival_airport_coordinate, \n",
    "                     Unit.KILOMETERS, \n",
    "                     normalize=True))\n",
    "\n",
    "\n",
    "df[\"orthodromic_distance_KM\"] = df2.apply(func=orthodromic_distance,\n",
    "                                           args=(airports_geometry,),\n",
    "                                           axis=1)\n"
   ]
  },
  {
   "cell_type": "code",
   "execution_count": null,
   "metadata": {},
   "outputs": [],
   "source": [
    "df[\"orthodromic_distance_KM\"].head(5)"
   ]
  },
  {
   "cell_type": "code",
   "execution_count": null,
   "metadata": {},
   "outputs": [],
   "source": [
    "def estimate_flight_length(distance):\n",
    "    # per minutes\n",
    "    v_km_per_min = randint(885, 965) / 60\n",
    "    taxi_time = randint(5, 10)\n",
    "    attach_stairs_time = randint(5, 10)\n",
    "    takeoff_clearance = randint(5, 10)\n",
    "    takeoff_time = randint(10, 20)\n",
    "    cruise_time = distance / v_km_per_min\n",
    "    vectoring_time = 10\n",
    "    busy_airplane_time = 10\n",
    "    descent_time = randint(10, 15)\n",
    "    landing_time = randint(10, 20)\n",
    "\n",
    "    flight_length = descent_time + landing_time + takeoff_time + taxi_time + attach_stairs_time + busy_airplane_time + vectoring_time + cruise_time + takeoff_clearance\n",
    "\n",
    "    return round(flight_length)\n"
   ]
  },
  {
   "cell_type": "code",
   "execution_count": null,
   "metadata": {},
   "outputs": [],
   "source": [
    "df2 = difference_drop(df, \"orthodromic_distance_KM\")\n"
   ]
  },
  {
   "cell_type": "code",
   "execution_count": null,
   "metadata": {},
   "outputs": [],
   "source": [
    "df[\"flight_length\"] = df2.apply(func=estimate_flight_length, axis=1)\n"
   ]
  },
  {
   "cell_type": "code",
   "execution_count": null,
   "metadata": {},
   "outputs": [],
   "source": [
    "df[\"flight_length\"].head(5)\n"
   ]
  }
 ],
 "metadata": {
  "kernelspec": {
   "display_name": "flight-tickets-project",
   "language": "python",
   "name": "python3"
  },
  "language_info": {
   "codemirror_mode": {
    "name": "ipython",
    "version": 3
   },
   "file_extension": ".py",
   "mimetype": "text/x-python",
   "name": "python",
   "nbconvert_exporter": "python",
   "pygments_lexer": "ipython3",
   "version": "3.10.9"
  },
  "orig_nbformat": 4,
  "vscode": {
   "interpreter": {
    "hash": "64d9060802de44a9b4cb1045ac8a04030fb53cdd768d59a8084aec2e67ec1b8f"
   }
  }
 },
 "nbformat": 4,
 "nbformat_minor": 2
}
