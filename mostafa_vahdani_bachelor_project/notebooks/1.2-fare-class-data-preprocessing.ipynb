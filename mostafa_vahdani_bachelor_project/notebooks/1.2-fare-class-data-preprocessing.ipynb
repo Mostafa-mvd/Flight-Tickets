{
 "cells": [
  {
   "cell_type": "code",
   "execution_count": null,
   "metadata": {},
   "outputs": [],
   "source": [
    "import pandas as pd"
   ]
  },
  {
   "cell_type": "code",
   "execution_count": null,
   "metadata": {},
   "outputs": [],
   "source": [
    "df = pd.read_csv(\"/home/magnus9102/Mostafa/Py/Github/data-science/mostafa_vahdani_bachelor_project/data/processed/flight_tickets_dataset.csv\")"
   ]
  },
  {
   "cell_type": "code",
   "execution_count": null,
   "metadata": {},
   "outputs": [],
   "source": [
    "def group_by_count(df, *args):\n",
    "    \"\"\"last column name on the args is the column you want to apply count() on it\"\"\"\n",
    "    return df.groupby([*args])[args[-1]].count()\n"
   ]
  },
  {
   "cell_type": "code",
   "execution_count": null,
   "metadata": {},
   "outputs": [],
   "source": [
    "def extract_fare_class_code(x):\n",
    "    \"\"\"Fare classes are typically alphanumeric codes that airlines use to categorize and \n",
    "    differentiate the various types of tickets they offer, otherwise\n",
    "    fare classes are codes used by airlines to categorize and manage the pricing and conditions of tickets,\n",
    "    they provide valuable information about the ticket's flexibility, conditions, and benefits\"\"\"\n",
    "\n",
    "    # Note -> The site we scrapped did not have a specific format to easily extract the fare class.\n",
    "    # Format -> [AircraftModel][-][RegistrationCode]AirlineClassCode[_D]\n",
    "    \n",
    "    if len(x) in (1, 2):\n",
    "        # Y, B, L, K, C, J, F, P, RY, RP, RB, etc\n",
    "        return x\n",
    "    elif x == \"A17\":\n",
    "        return x\n",
    "    elif x == \"MDY\" or x == \"BoeingMDY\":\n",
    "        # MDY or BoeingMDY\n",
    "        return \"Y\"\n",
    "    elif 'TOR' in x:\n",
    "        # 'M83TOR', 'MD8TOR', etc\n",
    "        return 'TOR'\n",
    "    elif x.find(\"_\") != -1:\n",
    "        # 'BAE-87Y_D', 'AB346-MMRC_D', etc\n",
    "        return x.split(\"_\")[0][-1]\n",
    "    elif x.find(\"DEF\") == -1 and x[-2].isalpha() and x[-2].isupper():\n",
    "        # 73HFS, 'MD8RP', 'MD8RY', 'MD8RB', 'Boeing737QQ', Boeing737QQ, etc\n",
    "        return x[-2:]\n",
    "    elif x.count(\"Y\") == 1:\n",
    "        # A310Y33, BoeingMD-83Y, BoeingMD-Y, 'BoeingY', Boeing737Y, '320Y', 'AirbusY', 'Airbus320Y', 'AB6Y', '737Y', 'M80Y', 'DEFY', '100Y', 'B737-800Y', etc\n",
    "        return x[x.index(\"Y\"):]\n",
    "\n",
    "    # 'AirbusA310W', 'MD8L', '320C', 'DEFJ', 'DEFB', 'AB6W', 'A300B4-203V', 'Boeing737X', 'Boeing737Q', etc\n",
    "    return x[-1]\n",
    "\n",
    "df['flight_class_type'] = df[\"flight_class_type\"].apply(func=extract_fare_class_code)\n"
   ]
  },
  {
   "cell_type": "code",
   "execution_count": null,
   "metadata": {},
   "outputs": [],
   "source": [
    "df2 = group_by_count(df, 'company_name', 'flight_class_type')\n",
    "df2[\"Qeshm\"]"
   ]
  },
  {
   "cell_type": "code",
   "execution_count": null,
   "metadata": {},
   "outputs": [],
   "source": [
    "df.to_csv(\"/home/magnus9102/Mostafa/Py/Github/data-science/mostafa_vahdani_bachelor_project/data/processed/flight_tickets_dataset.csv\", index=False)"
   ]
  }
 ],
 "metadata": {
  "kernelspec": {
   "display_name": "base",
   "language": "python",
   "name": "python3"
  },
  "language_info": {
   "codemirror_mode": {
    "name": "ipython",
    "version": 3
   },
   "file_extension": ".py",
   "mimetype": "text/x-python",
   "name": "python",
   "nbconvert_exporter": "python",
   "pygments_lexer": "ipython3",
   "version": "3.10.9"
  },
  "orig_nbformat": 4
 },
 "nbformat": 4,
 "nbformat_minor": 2
}
